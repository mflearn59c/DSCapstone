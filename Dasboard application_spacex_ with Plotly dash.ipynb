{
 "cells": [
  {
   "cell_type": "code",
   "execution_count": 1,
   "id": "298eba1d",
   "metadata": {},
   "outputs": [],
   "source": [
    "import dash\n",
    "from dash import dcc\n",
    "from dash import html\n",
    "from dash.dependencies import Input, Output\n",
    "import pandas as pd\n",
    "import plotly.graph_objs as go\n",
    "import plotly.express as px\n",
    "import wget"
   ]
  },
  {
   "cell_type": "code",
   "execution_count": 2,
   "id": "811dc2b5",
   "metadata": {},
   "outputs": [],
   "source": [
    "filename = wget.download(\"https://cf-courses-data.s3.us.cloud-object-storage.appdomain.cloud/IBM-DS0321EN-SkillsNetwork/datasets/spacex_launch_dash.csv\")"
   ]
  },
  {
   "cell_type": "code",
   "execution_count": null,
   "id": "cb8670c5",
   "metadata": {},
   "outputs": [],
   "source": [
    "app_filename = wget.download(\"https://cf-courses-data.s3.us.cloud-object-storage.appdomain.cloud/IBM-DS0321EN-SkillsNetwork/labs/module_3/spacex_dash_app.py\")"
   ]
  },
  {
   "cell_type": "code",
   "execution_count": 2,
   "id": "f00761ff",
   "metadata": {},
   "outputs": [],
   "source": [
    "# Read the airline data into pandas dataframe\n",
    "spacex_df = pd.read_csv(\"spacex_launch_dash.csv\")\n",
    "max_payload = spacex_df['Payload_Mass(kg)'].max()\n",
    "min_payload = spacex_df['Payload_Mass(kg)'].min()"
   ]
  },
  {
   "cell_type": "code",
   "execution_count": 3,
   "id": "3f60f8a9",
   "metadata": {},
   "outputs": [
    {
     "data": {
      "text/html": [
       "<div>\n",
       "<style scoped>\n",
       "    .dataframe tbody tr th:only-of-type {\n",
       "        vertical-align: middle;\n",
       "    }\n",
       "\n",
       "    .dataframe tbody tr th {\n",
       "        vertical-align: top;\n",
       "    }\n",
       "\n",
       "    .dataframe thead th {\n",
       "        text-align: right;\n",
       "    }\n",
       "</style>\n",
       "<table border=\"1\" class=\"dataframe\">\n",
       "  <thead>\n",
       "    <tr style=\"text-align: right;\">\n",
       "      <th></th>\n",
       "      <th>Unnamed: 0</th>\n",
       "      <th>Flight_Number</th>\n",
       "      <th>Launch_Site</th>\n",
       "      <th>class</th>\n",
       "      <th>Payload_Mass(kg)</th>\n",
       "      <th>Booster_Version</th>\n",
       "      <th>Booster_Version_Category</th>\n",
       "    </tr>\n",
       "  </thead>\n",
       "  <tbody>\n",
       "    <tr>\n",
       "      <th>0</th>\n",
       "      <td>0</td>\n",
       "      <td>1</td>\n",
       "      <td>CCAFS LC-40</td>\n",
       "      <td>0</td>\n",
       "      <td>0.0</td>\n",
       "      <td>F9 v1.0  B0003</td>\n",
       "      <td>v1.0</td>\n",
       "    </tr>\n",
       "    <tr>\n",
       "      <th>1</th>\n",
       "      <td>1</td>\n",
       "      <td>2</td>\n",
       "      <td>CCAFS LC-40</td>\n",
       "      <td>0</td>\n",
       "      <td>0.0</td>\n",
       "      <td>F9 v1.0  B0004</td>\n",
       "      <td>v1.0</td>\n",
       "    </tr>\n",
       "    <tr>\n",
       "      <th>2</th>\n",
       "      <td>2</td>\n",
       "      <td>3</td>\n",
       "      <td>CCAFS LC-40</td>\n",
       "      <td>0</td>\n",
       "      <td>525.0</td>\n",
       "      <td>F9 v1.0  B0005</td>\n",
       "      <td>v1.0</td>\n",
       "    </tr>\n",
       "    <tr>\n",
       "      <th>3</th>\n",
       "      <td>3</td>\n",
       "      <td>4</td>\n",
       "      <td>CCAFS LC-40</td>\n",
       "      <td>0</td>\n",
       "      <td>500.0</td>\n",
       "      <td>F9 v1.0  B0006</td>\n",
       "      <td>v1.0</td>\n",
       "    </tr>\n",
       "    <tr>\n",
       "      <th>4</th>\n",
       "      <td>4</td>\n",
       "      <td>5</td>\n",
       "      <td>CCAFS LC-40</td>\n",
       "      <td>0</td>\n",
       "      <td>677.0</td>\n",
       "      <td>F9 v1.0  B0007</td>\n",
       "      <td>v1.0</td>\n",
       "    </tr>\n",
       "  </tbody>\n",
       "</table>\n",
       "</div>"
      ],
      "text/plain": [
       "   Unnamed: 0  Flight_Number  Launch_Site  class  Payload_Mass(kg)  \\\n",
       "0           0              1  CCAFS LC-40      0               0.0   \n",
       "1           1              2  CCAFS LC-40      0               0.0   \n",
       "2           2              3  CCAFS LC-40      0             525.0   \n",
       "3           3              4  CCAFS LC-40      0             500.0   \n",
       "4           4              5  CCAFS LC-40      0             677.0   \n",
       "\n",
       "  Booster_Version Booster_Version_Category  \n",
       "0  F9 v1.0  B0003                     v1.0  \n",
       "1  F9 v1.0  B0004                     v1.0  \n",
       "2  F9 v1.0  B0005                     v1.0  \n",
       "3  F9 v1.0  B0006                     v1.0  \n",
       "4  F9 v1.0  B0007                     v1.0  "
      ]
     },
     "execution_count": 3,
     "metadata": {},
     "output_type": "execute_result"
    }
   ],
   "source": [
    "spacex_df.head()"
   ]
  },
  {
   "cell_type": "code",
   "execution_count": 4,
   "id": "404e3660",
   "metadata": {},
   "outputs": [],
   "source": [
    "# Create a dash application\n",
    "app = dash.Dash(__name__)"
   ]
  },
  {
   "cell_type": "code",
   "execution_count": 5,
   "id": "667807cf",
   "metadata": {},
   "outputs": [],
   "source": [
    "# Create an app layout\n",
    "# TASK 1: Add a dropdown list to enable Launch Site selection\n",
    "# The default select value is for ALL sites # dcc.Dropdown(id='site-dropdown',...)"
   ]
  },
  {
   "cell_type": "code",
   "execution_count": 6,
   "id": "330d31aa",
   "metadata": {},
   "outputs": [],
   "source": [
    "app.layout = html.Div(children=[html.H1('SpaceX Launch Records Dashboard',\n",
    "                                        style={'textAlign': 'center', 'color': '#503D36',\n",
    "                                               'font-size': 40}),\n",
    "                                dcc.Dropdown(\n",
    "                                    id='site-dropdown',\n",
    "                                    options=[\n",
    "                                        {'label': 'All Launch Sites', 'value':'All'},\n",
    "                                        {'label': 'CCAFS LC-40', 'value':'CCAFS LC-40'},\n",
    "                                        {'label': 'CCAFS SLC-40', 'value':'CCAFS SLC-40'},\n",
    "                                        {'label': 'KSC LC-39A', 'value':'KSC LC-39A'},\n",
    "                                        {'label': 'VAFB SLC-4E', 'value':'VAFB SLC-4E'},\n",
    "                                        \n",
    "                                    ],\n",
    "                                    value = 'All',\n",
    "                                    placeholder = 'Select Launch Site',\n",
    "                                    searchable = True\n",
    "                                    ),\n",
    "                                    html.Br(),\n",
    "                                \n",
    "                                    html.Div(dcc.Graph(id='success-pie-chart')),\n",
    "                                    html.Br(),\n",
    "                                \n",
    "                                    html.P(\"Payload range (Kg):\"),\n",
    "                                    html.Div(dcc.RangeSlider(id='payload-slider', min=0,max=10000,step=1000, \n",
    "                                                             marks={0:'0', 100:'100'},\n",
    "                                                             tooltip={\"placement\": \"top\", \"always_visible\": True},\n",
    "                                                            value=[min_payload, max_payload])),\n",
    "                                    \n",
    "                                    html.Div(dcc.Graph(id='success-payload-scatter-chart')),\n",
    "                               ])\n",
    "                                #html.Br(),\n",
    "                              \n",
    "                \n",
    "                           "
   ]
  },
  {
   "cell_type": "code",
   "execution_count": 7,
   "id": "29683f69",
   "metadata": {},
   "outputs": [],
   "source": [
    "# TASK 2: Add a pie chart to show the total successful launches count for all sites\n",
    "# If a specific launch site was selected, show the Success vs. Failed counts for the site\n",
    "                                    #html.Div(dcc.Graph(id='success-pie-chart')),\n",
    "                                #html.Br(),\n",
    "\n",
    "                                #html.P(\"Payload range (Kg):\"),\n",
    "                                # TASK 3: Add a slider to select payload range\n",
    "                                #dcc.RangeSlider(id='payload-slider',...)\n",
    "\n",
    "                                # TASK 4: Add a scatter chart to show the correlation between payload and launch success\n",
    "                                #html.Div(dcc.Graph(id='success-payload-scatter-chart')),\n",
    "                               # ])"
   ]
  },
  {
   "cell_type": "code",
   "execution_count": 8,
   "id": "8366c058",
   "metadata": {},
   "outputs": [],
   "source": [
    "# TASK 2:\n",
    "# Add a callback function for `site-dropdown` as input, `success-pie-chart` as output\n",
    "@app.callback(\n",
    "    Output('success-pie-chart', 'figure'),\n",
    "    Input('site-dropdown','value'))\n",
    "\n",
    "def generate_pie_chart(entered_launch_site):\n",
    "    if entered_launch_site == 'All':\n",
    "        fig =px.pie(spacex_df, values='class', names='Launch_Site', title='Total successful count of all launch sites')\n",
    "        return fig\n",
    "    else:\n",
    "        selected_site_df = spacex_df[spacex_df['Launch_Site'] == entered_launch_site]\n",
    "        selected_site_df = selected_site_df.groupby(['Launch_Site','class']).size().reset_index(name='count of class')\n",
    "        fig =px.pie(selected_site_df, names='class', values='count of class', title=f\"Total count of launch site: {entered_launch_site}\")\n",
    "        return fig\n",
    "\n",
    "# TASK 4:\n",
    "# Add a callback function for `site-dropdown` and `payload-slider` as inputs, `success-payload-scatter-chart` as output\n",
    "@app.callback(\n",
    "    Output('success-payload-scatter-chart', 'figure'),\n",
    "    [Input('site-dropdown','value'),\n",
    "     Input('payload-slider','value')])\n",
    "\n",
    "def generate_scatter_chart(entered_launch_site, payload_range):\n",
    "    payload_value_low, payload_value_high = payload_range\n",
    "    \n",
    "    if entered_launch_site == 'All':\n",
    "        fig =px.scatter(spacex_df, x= 'Payload_Mass(kg)', y='class', title = 'Correlation between payload and launch success',\n",
    "                       color = 'Booster_Version')\n",
    "        return fig\n",
    "    else:\n",
    "        selected_site_df = spacex_df[spacex_df['Launch_Site'] == entered_launch_site]\n",
    "        payload_range_df = selected_site_df[(selected_site_df['Payload_Mass(kg)'] >= payload_value_low) & (selected_site_df['Payload_Mass(kg)'] <= payload_value_high)]\n",
    "        fig =px.scatter(payload_range_df, x= 'Payload_Mass(kg)', y='class', title = f'Correlation between payload and launch success for launch site:{entered_launch_site}', \n",
    "                       color = 'Booster_Version')\n",
    "        return fig\n",
    "\n"
   ]
  },
  {
   "cell_type": "code",
   "execution_count": 9,
   "id": "5050d64f",
   "metadata": {},
   "outputs": [
    {
     "data": {
      "text/html": [
       "\n",
       "        <iframe\n",
       "            width=\"100%\"\n",
       "            height=\"650\"\n",
       "            src=\"http://127.0.0.1:8050/\"\n",
       "            frameborder=\"0\"\n",
       "            allowfullscreen\n",
       "            \n",
       "        ></iframe>\n",
       "        "
      ],
      "text/plain": [
       "<IPython.lib.display.IFrame at 0x1f41ec5a280>"
      ]
     },
     "metadata": {},
     "output_type": "display_data"
    }
   ],
   "source": [
    "# Run the app\n",
    "if __name__ == '__main__':\n",
    "    app.run_server()"
   ]
  },
  {
   "cell_type": "code",
   "execution_count": null,
   "id": "10373bda",
   "metadata": {},
   "outputs": [],
   "source": []
  }
 ],
 "metadata": {
  "kernelspec": {
   "display_name": "Python 3 (ipykernel)",
   "language": "python",
   "name": "python3"
  },
  "language_info": {
   "codemirror_mode": {
    "name": "ipython",
    "version": 3
   },
   "file_extension": ".py",
   "mimetype": "text/x-python",
   "name": "python",
   "nbconvert_exporter": "python",
   "pygments_lexer": "ipython3",
   "version": "3.8.17"
  }
 },
 "nbformat": 4,
 "nbformat_minor": 5
}
